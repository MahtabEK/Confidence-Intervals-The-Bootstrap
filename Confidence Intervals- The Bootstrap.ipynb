{
 "cells": [
  {
   "cell_type": "markdown",
   "metadata": {
    "nbgrader": {
     "grade": false,
     "grade_id": "cell-1ee82c1ef2b682223",
     "locked": true,
     "schema_version": 1,
     "solution": false
    }
   },
   "source": [
    "**Confidence Intervals & The Bootstrap**\n",
    "\n"
   ]
  },
  {
   "cell_type": "markdown",
   "metadata": {},
   "source": [
    "# Section 1\n",
    "\n",
    "### Part 1\n",
    "\n"
   ]
  },
  {
   "cell_type": "code",
   "execution_count": 1,
   "metadata": {
    "nbgrader": {
     "grade": false,
     "grade_id": "cell-f53c53f0b823418d",
     "locked": false,
     "schema_version": 1,
     "solution": true
    }
   },
   "outputs": [],
   "source": [
    "import numpy as np\n",
    "from scipy.stats import t\n",
    "import matplotlib.pyplot as plt\n",
    "import statsmodels.formula.api as sm\n",
    "import pandas as pd\n",
    "\n",
    "def confidence_interval(data):\n",
    "    '''\n",
    "    Function to compute confidence interval (ci).\n",
    "    \n",
    "    Inputs:\n",
    "    data - ndarray.  Data to be used to compute the interval\n",
    "    \n",
    "    Outputs:\n",
    "    estimated_mean - float.  The mean of the data\n",
    "    bounds - array. An array of length 2 where bounds[0] is the lower bound and bounds[1] is the upper bound for the ci.\n",
    "    '''\n",
    "    n = data.size\n",
    "    t_quantile = t.ppf(1-0.05/2, df=n-1)\n",
    "    estimated_mean = data.mean()\n",
    "    estimated_se = data.std()/np.sqrt(data.size)\n",
    "    bounds = estimated_mean + t_quantile*estimated_se*np.array([-1,1])\n",
    "    \n",
    "    return estimated_mean, bounds"
   ]
  },
  {
   "cell_type": "markdown",
   "metadata": {},
   "source": [
    "### Part 2"
   ]
  },
  {
   "cell_type": "code",
   "execution_count": 2,
   "metadata": {
    "nbgrader": {
     "grade": false,
     "grade_id": "5",
     "locked": false,
     "schema_version": 1,
     "solution": true
    }
   },
   "outputs": [
    {
     "data": {
      "image/png": "[encoded data removed]",
      "text/plain": [
       "<Figure size 720x480 with 1 Axes>"
      ]
     },
     "metadata": {
      "needs_background": "light"
     },
     "output_type": "display_data"
    }
   ],
   "source": [
    "def ci_simulation():\n",
    "    np.random.seed(3)\n",
    "    fig, ax = plt.subplots(dpi = 120)\n",
    "    ax.axhline(0, color = 'k')\n",
    "    \n",
    "    for i in range(20):\n",
    "        data = np.random.normal(size = 25)\n",
    "        mu,bounds = confidence_interval(data)\n",
    "        \n",
    "        color = 'blue'\n",
    "        if (min(bounds)>0)|(max(bounds)<0):\n",
    "            color = 'red'\n",
    "\n",
    "        interval_len = 1.0/2*(bounds[1] - bounds[0])\n",
    "\n",
    "        ax.errorbar(i, mu, yerr=interval_len, color = color, fmt = 'o')\n",
    "        \n",
    "        plt.tight_layout()\n",
    "        plt.savefig('ci_simulation.png')\n",
    "\n",
    "    return None\n",
    "\n",
    "ci_simulation()"
   ]
  },
  {
   "cell_type": "markdown",
   "metadata": {
    "nbgrader": {
     "grade": false,
     "grade_id": "4",
     "locked": true,
     "schema_version": 1,
     "solution": false
    }
   },
   "source": [
    "### Part 3\n",
    "\n",
    "1) I expected one interval. 5% of 20 is 1, so I expect 1 of the intervals to be wrong.\n",
    "\n",
    "2) Random sampling explains the differenc between the number of observed and expected red intervals"
   ]
  },
  {
   "cell_type": "markdown",
   "metadata": {},
   "source": [
    "### Part 4\n",
    "\n",
    "\n"
   ]
  },
  {
   "cell_type": "code",
   "execution_count": 4,
   "metadata": {
    "nbgrader": {
     "grade": false,
     "grade_id": "3",
     "locked": false,
     "schema_version": 1,
     "solution": true
    }
   },
   "outputs": [],
   "source": [
    "def num_propper_length(n=1600):\n",
    "    '''\n",
    "    Function to simulate how many confidence intervals would be no longer than 0.1 units long if\n",
    "    we sampled n observatiosn from a standard normal.\n",
    "    \n",
    "    Inputs:\n",
    "        n - int.  Number of draws to make from the standard normal\n",
    "        \n",
    "    Outputs:\n",
    "        prop_long_enough - float (between 0 and 1).  Proportion of consutrcuted intervals which are no longer than 0.1.\n",
    "    '''\n",
    "    np.random.seed(0)\n",
    "    data = np.random.normal(size = (1000,n))\n",
    "    ci_length = np.zeros(data.shape[0])\n",
    "    \n",
    "    for i,d in enumerate(data):\n",
    "        _, bounds = confidence_interval(d)\n",
    "        ci_length[i] = bounds[1] - bounds[0]\n",
    "\n",
    "    prop_long_enough = np.sum(ci_length<=0.1)    \n",
    "\n",
    "    return prop_long_enough"
   ]
  },
  {
   "cell_type": "markdown",
   "metadata": {
    "nbgrader": {
     "grade": false,
     "grade_id": "cell-b6ce0fb1dc86f79f",
     "locked": true,
     "schema_version": 1,
     "solution": false
    }
   },
   "source": [
    "### Part 5\n",
    "\n",
    "When we are calculationg (for example using the formula mentioned above for finding sample size), we use standard deviation=1 and mean=0, because we suppose we are using the normal distribution. But in fact all of the samples of size 1600 might not be distributed normally which means that their mean might not be exactly 0 and their standard deviation might not be exactly 1. Actually I checked the mean and standard deviation of those confidence intervals which were longer than 0.1 and it was exactly the case, (their mean are so close but not equal to 0 and their standard deviation is so close but not equal to 1). "
   ]
  },
  {
   "cell_type": "markdown",
   "metadata": {},
   "source": [
    "---"
   ]
  },
  {
   "cell_type": "markdown",
   "metadata": {
    "nbgrader": {
     "grade": false,
     "grade_id": "cell-c71a19b0908a6c59",
     "locked": true,
     "schema_version": 1,
     "solution": false
    }
   },
   "source": [
    "## Section 2\n",
    "\n",
    "### Part 1\n"
   ]
  },
  {
   "cell_type": "code",
   "execution_count": 5,
   "metadata": {
    "nbgrader": {
     "grade": false,
     "grade_id": "1",
     "locked": false,
     "schema_version": 1,
     "solution": true
    }
   },
   "outputs": [],
   "source": [
    "df_train=pd.read_csv('hockey_draftees_train.csv')\n",
    "\n",
    "model = sm.ols('wt ~ age + ht', data = df_train).fit()"
   ]
  },
  {
   "cell_type": "markdown",
   "metadata": {
    "nbgrader": {
     "grade": false,
     "grade_id": "cell-e426eb6a66d998df",
     "locked": true,
     "schema_version": 1,
     "solution": false
    }
   },
   "source": [
    "### Part 2\n"
   ]
  },
  {
   "cell_type": "code",
   "execution_count": 6,
   "metadata": {},
   "outputs": [
    {
     "name": "stdout",
     "output_type": "stream",
     "text": [
      "Training rsquared is  0.31407479140429073\n"
     ]
    }
   ],
   "source": [
    "print('Training rsquared is ',model.rsquared)"
   ]
  },
  {
   "cell_type": "markdown",
   "metadata": {},
   "source": [
    "### Part 3"
   ]
  },
  {
   "cell_type": "code",
   "execution_count": 7,
   "metadata": {},
   "outputs": [
    {
     "name": "stdout",
     "output_type": "stream",
     "text": [
      "Out of sample rsquared is  0.33131985665146646\n"
     ]
    }
   ],
   "source": [
    "df_test=pd.read_csv('hockey_draftees_test.csv')\n",
    "\n",
    "y = df_test.wt.values\n",
    "yhat = model.predict(df_test).values\n",
    "\n",
    "rsquared_oos = 1 - (np.sum(np.power(y - yhat,2)) / np.sum(np.power(y - y.mean(),2)))\n",
    "\n",
    "print('Out of sample rsquared is ', rsquared_oos)\n"
   ]
  },
  {
   "cell_type": "markdown",
   "metadata": {},
   "source": [
    "### Part 4"
   ]
  },
  {
   "cell_type": "code",
   "execution_count": 8,
   "metadata": {
    "nbgrader": {
     "grade": false,
     "grade_id": "2",
     "locked": false,
     "schema_version": 1,
     "solution": true
    }
   },
   "outputs": [],
   "source": [
    "def bootstrap(data, model, numboot):\n",
    "    '''\n",
    "    Function to bootstrap the r-squared for a linear model\n",
    "    \n",
    "    Inputs:\n",
    "        data - dataframe.  Data on which model can predict.\n",
    "        model - statsmodel ols.  Linear model of weight explained by height and age.  Can predict on data.\n",
    "        numboot - int.  Number of bootstrap replications.\n",
    "    \n",
    "    Outputs:\n",
    "        bootstrapped_rsquared - array.  An array of size (numboot, ) which contains oos bootstrapped rsquared values.\n",
    "    \n",
    "    '''\n",
    "    bootstrapped_rsquared = np.zeros(numboot)\n",
    "    for i in range(numboot):\n",
    "        df_bootstrapped = data.sample(data.shape[0], replace = True)\n",
    "        \n",
    "        y = df_bootstrapped.wt.values\n",
    "        yhat = model.predict(df_bootstrapped).values\n",
    "        bootstrapped_rsquared[i] = 1 - (np.sum(np.power(y - yhat,2)) / np.sum(np.power(y - y.mean(),2)))\n",
    "\n",
    "    return bootstrapped_rsquared\n"
   ]
  },
  {
   "cell_type": "markdown",
   "metadata": {},
   "source": [
    "### Part 5\n"
   ]
  },
  {
   "cell_type": "code",
   "execution_count": 9,
   "metadata": {},
   "outputs": [
    {
     "data": {
      "text/plain": [
       "(array([   8.,  118.,  467., 1506., 2643., 2790., 1739.,  608.,  109.,\n",
       "          12.]),\n",
       " array([0.23796345, 0.25606341, 0.27416337, 0.29226333, 0.31036329,\n",
       "        0.32846325, 0.34656321, 0.36466317, 0.38276313, 0.40086309,\n",
       "        0.41896305]),\n",
       " <a list of 10 Patch objects>)"
      ]
     },
     "execution_count": 9,
     "metadata": {},
     "output_type": "execute_result"
    },
    {
     "data": {
      "image/png": "[encoded data removed]",
      "text/plain": [
       "<Figure size 432x288 with 1 Axes>"
      ]
     },
     "metadata": {
      "needs_background": "light"
     },
     "output_type": "display_data"
    }
   ],
   "source": [
    "bs_replicates = bootstrap(df_test, model, 10_000)\n",
    "\n",
    "plt.hist(bs_replicates, edgecolor = 'white')"
   ]
  },
  {
   "cell_type": "markdown",
   "metadata": {},
   "source": [
    "### Part 6\n"
   ]
  },
  {
   "cell_type": "code",
   "execution_count": 11,
   "metadata": {},
   "outputs": [
    {
     "name": "stdout",
     "output_type": "stream",
     "text": [
      "The confidence interval is between 0.2824005745315218  and  0.37647612388451035\n"
     ]
    }
   ],
   "source": [
    "ci_lower, ci_upper = np.quantile(bs_replicates, [0.025, 0.975])\n",
    "\n",
    "print('The confidence interval is between', ci_lower, ' and ', ci_upper)"
   ]
  }
 ],
 "metadata": {
  "celltoolbar": "Create Assignment",
  "kernelspec": {
   "display_name": "Python 3",
   "language": "python",
   "name": "python3"
  },
  "language_info": {
   "codemirror_mode": {
    "name": "ipython",
    "version": 3
   },
   "file_extension": ".py",
   "mimetype": "text/x-python",
   "name": "python",
   "nbconvert_exporter": "python",
   "pygments_lexer": "ipython3",
   "version": "3.7.3"
  }
 },
 "nbformat": 4,
 "nbformat_minor": 2
}
